{
 "cells": [
  {
   "cell_type": "markdown",
   "id": "0f75093b",
   "metadata": {},
   "source": [
    "## Setup 1"
   ]
  },
  {
   "cell_type": "code",
   "execution_count": 1,
   "id": "e5e5c702",
   "metadata": {},
   "outputs": [],
   "source": [
    "a = [1, 2, 3, 4, 5, 6, 7, 8, 9, 10] #np.array(a) till then it is list"
   ]
  },
  {
   "cell_type": "code",
   "execution_count": 4,
   "id": "2ad30579",
   "metadata": {},
   "outputs": [
    {
     "name": "stdout",
     "output_type": "stream",
     "text": [
      "55\n"
     ]
    }
   ],
   "source": [
    "sum_of_a = sum(a) #why not a.sum()? # a.sum() would work if it was an array\n",
    "print(sum_of_a)"
   ]
  },
  {
   "cell_type": "code",
   "execution_count": 5,
   "id": "9e2acba4",
   "metadata": {},
   "outputs": [
    {
     "name": "stdout",
     "output_type": "stream",
     "text": [
      "1\n"
     ]
    }
   ],
   "source": [
    "min_of_a = min(a)\n",
    "print(min_of_a)"
   ]
  },
  {
   "cell_type": "code",
   "execution_count": 6,
   "id": "921d7a7a",
   "metadata": {},
   "outputs": [
    {
     "name": "stdout",
     "output_type": "stream",
     "text": [
      "10\n"
     ]
    }
   ],
   "source": [
    "max_of_a = max(a) \n",
    "print(max_of_a)"
   ]
  },
  {
   "cell_type": "code",
   "execution_count": 7,
   "id": "8ea020bf",
   "metadata": {},
   "outputs": [],
   "source": [
    "mean_of_a = sum(a)/len(a) #built in python method"
   ]
  },
  {
   "cell_type": "code",
   "execution_count": 8,
   "id": "7decec96",
   "metadata": {},
   "outputs": [],
   "source": [
    "import statistics #an import method"
   ]
  },
  {
   "cell_type": "code",
   "execution_count": 9,
   "id": "cdf23326",
   "metadata": {
    "scrolled": true
   },
   "outputs": [],
   "source": [
    "mean_of_a = statistics.mean(a)"
   ]
  },
  {
   "cell_type": "code",
   "execution_count": 29,
   "id": "a1f70953",
   "metadata": {},
   "outputs": [
    {
     "data": {
      "text/plain": [
       "3628800"
      ]
     },
     "execution_count": 29,
     "metadata": {},
     "output_type": "execute_result"
    }
   ],
   "source": [
    "def product_of_a(alist):\n",
    "    q = 1\n",
    "    for x in alist:\n",
    "        q *=x\n",
    "    return q\n",
    "product_of_a(a)"
   ]
  },
  {
   "cell_type": "code",
   "execution_count": 13,
   "id": "91e24ae3",
   "metadata": {
    "scrolled": true
   },
   "outputs": [
    {
     "data": {
      "text/plain": [
       "[1, 4, 9, 16, 25, 36, 49, 64, 81, 100]"
      ]
     },
     "execution_count": 13,
     "metadata": {},
     "output_type": "execute_result"
    }
   ],
   "source": [
    "# !! not gonna work: squares_of_a = a ** 2 #need for loop or comprehension for list (append)\n",
    "\n",
    "# sqr = lambda x: x * x\n",
    "# sqr(a)\n",
    "# TypeError: can't multiply sequence by non-int of type 'list'\n",
    "\n",
    "sqr_list = [x**2 for x in a]\n",
    "sqr_list"
   ]
  },
  {
   "cell_type": "code",
   "execution_count": null,
   "id": "1a34f593",
   "metadata": {},
   "outputs": [],
   "source": [
    "import numpy as np #for comparison"
   ]
  },
  {
   "cell_type": "code",
   "execution_count": 14,
   "id": "7b14c27a",
   "metadata": {},
   "outputs": [
    {
     "data": {
      "text/plain": [
       "array([  1,   4,   9,  16,  25,  36,  49,  64,  81, 100])"
      ]
     },
     "execution_count": 14,
     "metadata": {},
     "output_type": "execute_result"
    }
   ],
   "source": [
    "np.power(a, 2)"
   ]
  },
  {
   "cell_type": "code",
   "execution_count": 15,
   "id": "5039f043",
   "metadata": {},
   "outputs": [
    {
     "data": {
      "text/plain": [
       "[1, 3, 5, 7, 9]"
      ]
     },
     "execution_count": 15,
     "metadata": {},
     "output_type": "execute_result"
    }
   ],
   "source": [
    "odds_in_a = [x for x in a if x % 2 != 0]\n",
    "odds_in_a"
   ]
  },
  {
   "cell_type": "code",
   "execution_count": 16,
   "id": "c3dfd239",
   "metadata": {
    "scrolled": true
   },
   "outputs": [],
   "source": [
    "evens_in_a = [x for x in a if x % 2 == 0] \n",
    "# note that a % 2 == 0 wont work cuz its a list, \n",
    "# so you need a loop to hit each element in the list (but numpy could do it, it's designed for vector operations)\n",
    "# TypeError: unsupported operand type(s) for %: 'list' and 'int'"
   ]
  },
  {
   "cell_type": "markdown",
   "id": "be2193d3",
   "metadata": {},
   "source": [
    "## Setup 2"
   ]
  },
  {
   "cell_type": "code",
   "execution_count": null,
   "id": "e3f858f6",
   "metadata": {},
   "outputs": [],
   "source": [
    "b = [\n",
    "    [3, 4, 5],\n",
    "    [6, 7, 8]\n",
    "]"
   ]
  },
  {
   "cell_type": "code",
   "execution_count": null,
   "id": "9787076d",
   "metadata": {},
   "outputs": [],
   "source": []
  }
 ],
 "metadata": {
  "kernelspec": {
   "display_name": "Python 3 (ipykernel)",
   "language": "python",
   "name": "python3"
  },
  "language_info": {
   "codemirror_mode": {
    "name": "ipython",
    "version": 3
   },
   "file_extension": ".py",
   "mimetype": "text/x-python",
   "name": "python",
   "nbconvert_exporter": "python",
   "pygments_lexer": "ipython3",
   "version": "3.9.12"
  }
 },
 "nbformat": 4,
 "nbformat_minor": 5
}
